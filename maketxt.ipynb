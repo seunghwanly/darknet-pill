{
 "cells": [
  {
   "cell_type": "code",
   "execution_count": 1,
   "metadata": {},
   "outputs": [],
   "source": [
    "import os"
   ]
  },
  {
   "cell_type": "code",
   "execution_count": 3,
   "metadata": {},
   "outputs": [],
   "source": [
    "trainDir = os.listdir('./train_image/')\n",
    "testDir = os.listdir('./test_image/')"
   ]
  },
  {
   "cell_type": "code",
   "execution_count": 6,
   "metadata": {},
   "outputs": [],
   "source": [
    "train_data_txt = ''\n",
    "test_data_txt = ''"
   ]
  },
  {
   "cell_type": "code",
   "execution_count": 7,
   "metadata": {},
   "outputs": [],
   "source": [
    "for item in trainDir:\n",
    "    if item[-3:] == 'jpg':\n",
    "        train_data_txt += 'data/obj/' + item + '\\n'\n",
    "        \n",
    "for item in testDir:\n",
    "    if item[-3:] == 'jpg':\n",
    "        test_data_txt += 'data/obj/' + item + '\\n'"
   ]
  },
  {
   "cell_type": "code",
   "execution_count": 8,
   "metadata": {},
   "outputs": [],
   "source": [
    "with open('train.txt','w') as fTrain:\n",
    "    fTrain.truncate(0)\n",
    "    fTrain.write(train_data_txt)\n",
    "    \n",
    "with open('test.txt','w') as fTest:\n",
    "    fTest.truncate(-0)\n",
    "    fTest.write(test_data_txt)"
   ]
  },
  {
   "cell_type": "code",
   "execution_count": null,
   "metadata": {},
   "outputs": [],
   "source": []
  }
 ],
 "metadata": {
  "kernelspec": {
   "display_name": "Python 3",
   "language": "python",
   "name": "python3"
  },
  "language_info": {
   "codemirror_mode": {
    "name": "ipython",
    "version": 3
   },
   "file_extension": ".py",
   "mimetype": "text/x-python",
   "name": "python",
   "nbconvert_exporter": "python",
   "pygments_lexer": "ipython3",
   "version": "3.8.9"
  }
 },
 "nbformat": 4,
 "nbformat_minor": 4
}
