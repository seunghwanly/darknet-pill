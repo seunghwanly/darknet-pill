{
 "cells": [
  {
   "cell_type": "code",
   "execution_count": 1,
   "metadata": {},
   "outputs": [],
   "source": [
    "# import here\n",
    "import csv\n",
    "from os import listdir"
   ]
  },
  {
   "cell_type": "code",
   "execution_count": 2,
   "metadata": {},
   "outputs": [],
   "source": [
    "csv_data_set = []\n",
    "image_set = []"
   ]
  },
  {
   "cell_type": "code",
   "execution_count": 3,
   "metadata": {},
   "outputs": [],
   "source": [
    "# csv - save only [code] and [front-text]\n",
    "with open('./dataset.csv', newline='') as csvfile:\n",
    "    lines = csv.reader(csvfile)\n",
    "    for index, value in enumerate(lines):\n",
    "        if index != 0:\n",
    "            csv_data_set.append([value[0], value[6]])"
   ]
  },
  {
   "cell_type": "code",
   "execution_count": 4,
   "metadata": {},
   "outputs": [],
   "source": [
    "# files\n",
    "enteries = listdir('./train_image/')"
   ]
  },
  {
   "cell_type": "code",
   "execution_count": 5,
   "metadata": {},
   "outputs": [],
   "source": [
    "for entry in enteries:\n",
    "    if '.jpg' in entry:\n",
    "        image_set.append(entry)"
   ]
  },
  {
   "cell_type": "code",
   "execution_count": 8,
   "metadata": {},
   "outputs": [],
   "source": [
    "def findLabel(name):\n",
    "    for item in csv_data_set:\n",
    "        if item[0] == name:\n",
    "            return item[1]\n",
    "    return -1"
   ]
  },
  {
   "cell_type": "code",
   "execution_count": 15,
   "metadata": {},
   "outputs": [
    {
     "name": "stdout",
     "output_type": "stream",
     "text": [
      "test/197000005.jpg\tCKD 250\n",
      "test/201707895.jpg\tBD\n",
      "test/201707670.jpg\tN분할선K\n",
      "test/201707937.jpg\tRN\n",
      "test/201206176.jpg\tHN\n",
      "test/201707673.jpg\tNK\n",
      "test/202005974.jpg\t분할선\n",
      "test/202006064.jpg\tTO\n",
      "test/201708018.jpg\tTT\n",
      "test/200403237.jpg\tMM분할선MP2\n",
      "test/201206201.jpg\tW분할선I\n",
      "test/201708144.jpg\tU분할선R\n",
      "test/201708154.jpg\tBIR\n",
      "test/201206205.jpg\tLANSO 15\n",
      "test/201708034.jpg\tMI분할선SL분할선IM\n",
      "test/201708021.jpg\t마크L5\n",
      "test/201206238.jpg\tMOT\n",
      "test/201708037.jpg\tNK Flu75\n",
      "test/201707853.jpg\tΛPG\n",
      "test/201707847.jpg\tJW4\n",
      "test/201707674.jpg\tNK\n",
      "test/201707675.jpg\tNK\n",
      "test/201605260.jpg\tBI\n",
      "test/201708036.jpg\tCLMX\n",
      "test/201708142.jpg\tEDP\n",
      "test/201605159.jpg\tR분할선C\n",
      "test/201605171.jpg\tKb\n",
      "test/201708131.jpg\tDC\n",
      "test/201708125.jpg\t마크\n",
      "test/200403242.jpg\tMMIH\n",
      "test/200403256.jpg\tKMS\n",
      "test/201708045.jpg\tKKM 300\n",
      "test/201708044.jpg\tD-W\n",
      "test/201708087.jpg\tKMP\n",
      "test/200403243.jpg\tMSV\n",
      "test/201708130.jpg\t경동 HBC\n",
      "test/202005686.jpg\tP분할선B\n",
      "test/201605172.jpg\tKb\n",
      "test/201708091.jpg\tLVCBRB\n",
      "test/200403255.jpg\tKMS\n",
      "test/200403241.jpg\tMM\n",
      "test/201708085.jpg\tF80\n",
      "test/201708046.jpg\tCXP\n",
      "test/201707822.jpg\tNT\n",
      "test/201707836.jpg\tIC FRPM\n",
      "test/200403240.jpg\tMMRE\n",
      "test/201708084.jpg\tJ분할선I\n",
      "test/200403254.jpg\tKMS CFL250mg\n",
      "test/202005452.jpg\tRD\n",
      "test/202005491.jpg\tETX Y\n",
      "test/196900043.jpg\tID·Q\n",
      "test/201707943.jpg\tKL-A\n",
      "test/202005873.jpg\tI2\n",
      "test/201605177.jpg\tKPA150\n",
      "test/201605163.jpg\t마크PBC100\n",
      "test/201708080.jpg\tAPG PK\n",
      "test/200403244.jpg\tMMPV분할선10\n",
      "test/201708043.jpg\tLVS\n",
      "test/201708095.jpg\tTMD\n",
      "test/201605176.jpg\tKJBP\n",
      "test/202005694.jpg\tENK\n",
      "test/201707944.jpg\tM10\n",
      "test/201605174.jpg\tHP\n",
      "test/202005496.jpg\tLCB6\n",
      "test/201708083.jpg\tLD\n",
      "test/200403253.jpg\tKMS\n",
      "test/201708068.jpg\tIP\n",
      "test/201708069.jpg\tKK\n",
      "test/201708055.jpg\tMG\n",
      "test/200403246.jpg\tMM ER300\n",
      "test/197000076.jpg\tBN분할선BN\n",
      "test/201708135.jpg\tCMFT\n",
      "test/201605175.jpg\tWIP\n",
      "test/201605161.jpg\t마크PBC75\n",
      "test/202005673.jpg\tTOP\n",
      "test/201605178.jpg\tUMWS\n",
      "test/201708138.jpg\tPO\n",
      "test/201708110.jpg\t분할선\n",
      "test/196900101.jpg\tYPF\n",
      "test/202005300.jpg\tD분할선20\n",
      "test/197000079.jpg\tE10\n",
      "test/197200016.jpg\tJMT\n",
      "test/201707965.jpg\tTCV\n",
      "test/201707838.jpg\tCPX\n",
      "test/201708048.jpg\tTW\n",
      "test/202005449.jpg\tKNL\n",
      "test/201605325.jpg\tAJU ADC\n",
      "test/201708173.jpg\tJI\n",
      "test/201707914.jpg\t마크\n",
      "test/201708038.jpg\tNK Flu30\n",
      "test/201707860.jpg\tSS\n",
      "test/201708039.jpg\tNK Flu45\n",
      "test/201708159.jpg\tHanwha ACP\n",
      "test/201206181.jpg\tSS\n",
      "test/201707939.jpg\tDKAME\n",
      "test/201605323.jpg\tDWP\n",
      "test/201708001.jpg\tLCM\n",
      "test/202005762.jpg\tNS AL\n",
      "test/201708174.jpg\tSAMJIN PGN       300\n",
      "test/201707938.jpg\tEK2AZ\n",
      "test/200403239.jpg\tMMP20\n",
      "test/201707669.jpg\tNK 150\n",
      "test/201707668.jpg\tP분할선B\n",
      "test/201206226.jpg\tVEM\n",
      "test/200403238.jpg\tMM MD 7.5\n",
      "test/201707907.jpg\tAPG VS\n",
      "\n"
     ]
    }
   ],
   "source": [
    "# text write -> {imagepath}\\t{label}\\n\n",
    "write_data = \"\"\n",
    "# write data\n",
    "for element in image_set:\n",
    "    frontText = findLabel(element[:-4])\n",
    "    if frontText != -1:\n",
    "        temp = \"test/\" + element + \"\\t\" + frontText + \"\\n\"\n",
    "        write_data += temp\n",
    "\n",
    "print(write_data)\n",
    "# with open('./gt.txt', mode='wt', encoding='utf-8') as writeFile:\n",
    "    "
   ]
  },
  {
   "cell_type": "code",
   "execution_count": null,
   "metadata": {},
   "outputs": [],
   "source": []
  }
 ],
 "metadata": {
  "kernelspec": {
   "display_name": "Python 3",
   "language": "python",
   "name": "python3"
  },
  "language_info": {
   "codemirror_mode": {
    "name": "ipython",
    "version": 3
   },
   "file_extension": ".py",
   "mimetype": "text/x-python",
   "name": "python",
   "nbconvert_exporter": "python",
   "pygments_lexer": "ipython3",
   "version": "3.8.9"
  }
 },
 "nbformat": 4,
 "nbformat_minor": 4
}
