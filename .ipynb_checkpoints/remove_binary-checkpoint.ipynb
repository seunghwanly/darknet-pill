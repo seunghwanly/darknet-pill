{
 "cells": [
  {
   "cell_type": "code",
   "execution_count": 11,
   "metadata": {},
   "outputs": [],
   "source": [
    "import os\n",
    "import re"
   ]
  },
  {
   "cell_type": "code",
   "execution_count": 24,
   "metadata": {},
   "outputs": [],
   "source": [
    "with open('./classes.txt', 'r+') as f:\n",
    "    data = f.readlines()\n",
    "    classes = []\n",
    "    for line in data:\n",
    "        arr = re.findall(\"'[A-Z0-9]'\", line)\n",
    "        classes.append(arr)"
   ]
  },
  {
   "cell_type": "code",
   "execution_count": 25,
   "metadata": {},
   "outputs": [
    {
     "data": {
      "text/plain": [
       "[['A',\n",
       "  '0',\n",
       "  'B',\n",
       "  '1',\n",
       "  'C',\n",
       "  '2',\n",
       "  'D',\n",
       "  '3',\n",
       "  'E',\n",
       "  '4',\n",
       "  'F',\n",
       "  '5',\n",
       "  'G',\n",
       "  '6',\n",
       "  'H',\n",
       "  '7',\n",
       "  'I',\n",
       "  '8',\n",
       "  'J',\n",
       "  '9',\n",
       "  'K',\n",
       "  '1',\n",
       "  '0',\n",
       "  'L',\n",
       "  '1',\n",
       "  '1',\n",
       "  'M',\n",
       "  '1',\n",
       "  '2',\n",
       "  'N',\n",
       "  '1',\n",
       "  '3',\n",
       "  'O',\n",
       "  '1',\n",
       "  '4',\n",
       "  'P',\n",
       "  '1',\n",
       "  '5',\n",
       "  'Q',\n",
       "  '1',\n",
       "  '6',\n",
       "  'R',\n",
       "  '1',\n",
       "  '7',\n",
       "  'S',\n",
       "  '1',\n",
       "  '8',\n",
       "  'T',\n",
       "  '1',\n",
       "  '9',\n",
       "  'U',\n",
       "  '2',\n",
       "  '0',\n",
       "  'V',\n",
       "  '2',\n",
       "  '1',\n",
       "  'W',\n",
       "  '2',\n",
       "  '2',\n",
       "  'X',\n",
       "  '2',\n",
       "  '3',\n",
       "  'Y',\n",
       "  '2',\n",
       "  '4',\n",
       "  'Z',\n",
       "  '2',\n",
       "  '5',\n",
       "  '1',\n",
       "  '2',\n",
       "  '6',\n",
       "  '2',\n",
       "  '2',\n",
       "  '7',\n",
       "  '3',\n",
       "  '2',\n",
       "  '8',\n",
       "  '4',\n",
       "  '2',\n",
       "  '9',\n",
       "  '5',\n",
       "  '3',\n",
       "  '0',\n",
       "  '6',\n",
       "  '3',\n",
       "  '1',\n",
       "  '7',\n",
       "  '3',\n",
       "  '2',\n",
       "  '8',\n",
       "  '3',\n",
       "  '3',\n",
       "  '9',\n",
       "  '3',\n",
       "  '4',\n",
       "  '0',\n",
       "  '3',\n",
       "  '5']]"
      ]
     },
     "execution_count": 25,
     "metadata": {},
     "output_type": "execute_result"
    }
   ],
   "source": [
    "classes"
   ]
  },
  {
   "cell_type": "code",
   "execution_count": 23,
   "metadata": {},
   "outputs": [
    {
     "ename": "TypeError",
     "evalue": "expected string or bytes-like object",
     "output_type": "error",
     "traceback": [
      "\u001b[0;31m---------------------------------------------------------------------------\u001b[0m",
      "\u001b[0;31mTypeError\u001b[0m                                 Traceback (most recent call last)",
      "\u001b[0;32m<ipython-input-23-9abeddcd64cb>\u001b[0m in \u001b[0;36m<module>\u001b[0;34m\u001b[0m\n\u001b[1;32m      1\u001b[0m \u001b[0;32mfor\u001b[0m \u001b[0mitem\u001b[0m \u001b[0;32min\u001b[0m \u001b[0mclasses\u001b[0m\u001b[0;34m:\u001b[0m\u001b[0;34m\u001b[0m\u001b[0;34m\u001b[0m\u001b[0m\n\u001b[0;32m----> 2\u001b[0;31m     \u001b[0mnewChar\u001b[0m \u001b[0;34m=\u001b[0m \u001b[0mre\u001b[0m\u001b[0;34m.\u001b[0m\u001b[0mmatch\u001b[0m\u001b[0;34m(\u001b[0m\u001b[0;34m'[A-Z0-9]'\u001b[0m\u001b[0;34m,\u001b[0m \u001b[0mitem\u001b[0m\u001b[0;34m)\u001b[0m\u001b[0;34m\u001b[0m\u001b[0;34m\u001b[0m\u001b[0m\n\u001b[0m\u001b[1;32m      3\u001b[0m     \u001b[0mprint\u001b[0m\u001b[0;34m(\u001b[0m\u001b[0mnewChar\u001b[0m\u001b[0;34m)\u001b[0m\u001b[0;34m\u001b[0m\u001b[0;34m\u001b[0m\u001b[0m\n",
      "\u001b[0;32m/usr/local/Cellar/python@3.8/3.8.9/Frameworks/Python.framework/Versions/3.8/lib/python3.8/re.py\u001b[0m in \u001b[0;36mmatch\u001b[0;34m(pattern, string, flags)\u001b[0m\n\u001b[1;32m    189\u001b[0m     \"\"\"Try to apply the pattern at the start of the string, returning\n\u001b[1;32m    190\u001b[0m     a Match object, or None if no match was found.\"\"\"\n\u001b[0;32m--> 191\u001b[0;31m     \u001b[0;32mreturn\u001b[0m \u001b[0m_compile\u001b[0m\u001b[0;34m(\u001b[0m\u001b[0mpattern\u001b[0m\u001b[0;34m,\u001b[0m \u001b[0mflags\u001b[0m\u001b[0;34m)\u001b[0m\u001b[0;34m.\u001b[0m\u001b[0mmatch\u001b[0m\u001b[0;34m(\u001b[0m\u001b[0mstring\u001b[0m\u001b[0;34m)\u001b[0m\u001b[0;34m\u001b[0m\u001b[0;34m\u001b[0m\u001b[0m\n\u001b[0m\u001b[1;32m    192\u001b[0m \u001b[0;34m\u001b[0m\u001b[0m\n\u001b[1;32m    193\u001b[0m \u001b[0;32mdef\u001b[0m \u001b[0mfullmatch\u001b[0m\u001b[0;34m(\u001b[0m\u001b[0mpattern\u001b[0m\u001b[0;34m,\u001b[0m \u001b[0mstring\u001b[0m\u001b[0;34m,\u001b[0m \u001b[0mflags\u001b[0m\u001b[0;34m=\u001b[0m\u001b[0;36m0\u001b[0m\u001b[0;34m)\u001b[0m\u001b[0;34m:\u001b[0m\u001b[0;34m\u001b[0m\u001b[0;34m\u001b[0m\u001b[0m\n",
      "\u001b[0;31mTypeError\u001b[0m: expected string or bytes-like object"
     ]
    }
   ],
   "source": [
    "for item in classes:\n",
    "    newChar = re.match('[A-Z0-9]', item)\n",
    "    print(newChar)"
   ]
  },
  {
   "cell_type": "code",
   "execution_count": null,
   "metadata": {},
   "outputs": [],
   "source": []
  }
 ],
 "metadata": {
  "kernelspec": {
   "display_name": "Python 3",
   "language": "python",
   "name": "python3"
  },
  "language_info": {
   "codemirror_mode": {
    "name": "ipython",
    "version": 3
   },
   "file_extension": ".py",
   "mimetype": "text/x-python",
   "name": "python",
   "nbconvert_exporter": "python",
   "pygments_lexer": "ipython3",
   "version": "3.8.9"
  }
 },
 "nbformat": 4,
 "nbformat_minor": 4
}
