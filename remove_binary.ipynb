{
 "cells": [
  {
   "cell_type": "code",
   "execution_count": 11,
   "metadata": {},
   "outputs": [],
   "source": [
    "import os\n",
    "import re"
   ]
  },
  {
   "cell_type": "code",
   "execution_count": 26,
   "metadata": {},
   "outputs": [],
   "source": [
    "with open('./classes.txt', 'r+') as f:\n",
    "    data = f.readlines()\n",
    "    classes = []\n",
    "    for line in data:\n",
    "        arr = re.findall(\"'[A-Z0-9]'\", line)\n",
    "        classes.append(arr)"
   ]
  },
  {
   "cell_type": "code",
   "execution_count": 27,
   "metadata": {},
   "outputs": [
    {
     "data": {
      "text/plain": [
       "[[\"'A'\",\n",
       "  \"'B'\",\n",
       "  \"'C'\",\n",
       "  \"'D'\",\n",
       "  \"'E'\",\n",
       "  \"'F'\",\n",
       "  \"'G'\",\n",
       "  \"'H'\",\n",
       "  \"'I'\",\n",
       "  \"'J'\",\n",
       "  \"'K'\",\n",
       "  \"'L'\",\n",
       "  \"'M'\",\n",
       "  \"'N'\",\n",
       "  \"'O'\",\n",
       "  \"'P'\",\n",
       "  \"'Q'\",\n",
       "  \"'R'\",\n",
       "  \"'S'\",\n",
       "  \"'T'\",\n",
       "  \"'U'\",\n",
       "  \"'V'\",\n",
       "  \"'W'\",\n",
       "  \"'X'\",\n",
       "  \"'Y'\",\n",
       "  \"'Z'\",\n",
       "  \"'1'\",\n",
       "  \"'2'\",\n",
       "  \"'3'\",\n",
       "  \"'4'\",\n",
       "  \"'5'\",\n",
       "  \"'6'\",\n",
       "  \"'7'\",\n",
       "  \"'8'\",\n",
       "  \"'9'\",\n",
       "  \"'0'\"]]"
      ]
     },
     "execution_count": 27,
     "metadata": {},
     "output_type": "execute_result"
    }
   ],
   "source": [
    "classes"
   ]
  },
  {
   "cell_type": "code",
   "execution_count": 38,
   "metadata": {},
   "outputs": [],
   "source": [
    "only_class = []"
   ]
  },
  {
   "cell_type": "code",
   "execution_count": 39,
   "metadata": {},
   "outputs": [],
   "source": [
    "for item in classes:\n",
    "    for i in item:\n",
    "        only_class.append(i[1])    "
   ]
  },
  {
   "cell_type": "code",
   "execution_count": 41,
   "metadata": {},
   "outputs": [],
   "source": [
    "write_data = ''\n",
    "\n",
    "for i in only_class:\n",
    "    write_data += (i + '\\n')"
   ]
  },
  {
   "cell_type": "code",
   "execution_count": 42,
   "metadata": {},
   "outputs": [
    {
     "data": {
      "text/plain": [
       "'A\\nB\\nC\\nD\\nE\\nF\\nG\\nH\\nI\\nJ\\nK\\nL\\nM\\nN\\nO\\nP\\nQ\\nR\\nS\\nT\\nU\\nV\\nW\\nX\\nY\\nZ\\n1\\n2\\n3\\n4\\n5\\n6\\n7\\n8\\n9\\n0\\n'"
      ]
     },
     "execution_count": 42,
     "metadata": {},
     "output_type": "execute_result"
    }
   ],
   "source": [
    "write_data"
   ]
  },
  {
   "cell_type": "code",
   "execution_count": 43,
   "metadata": {},
   "outputs": [],
   "source": [
    "with open('obj.names', 'w') as file:\n",
    "    file.write(write_data)"
   ]
  },
  {
   "cell_type": "code",
   "execution_count": null,
   "metadata": {},
   "outputs": [],
   "source": []
  }
 ],
 "metadata": {
  "kernelspec": {
   "display_name": "Python 3",
   "language": "python",
   "name": "python3"
  },
  "language_info": {
   "codemirror_mode": {
    "name": "ipython",
    "version": 3
   },
   "file_extension": ".py",
   "mimetype": "text/x-python",
   "name": "python",
   "nbconvert_exporter": "python",
   "pygments_lexer": "ipython3",
   "version": "3.8.9"
  }
 },
 "nbformat": 4,
 "nbformat_minor": 4
}
